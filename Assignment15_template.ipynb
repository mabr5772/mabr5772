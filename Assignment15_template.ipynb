{
  "nbformat": 4,
  "nbformat_minor": 0,
  "metadata": {
    "colab": {
      "name": "Copy of Assignment15-template.ipynb",
      "provenance": [],
      "collapsed_sections": [],
      "include_colab_link": true
    },
    "kernelspec": {
      "name": "python3",
      "display_name": "Python 3"
    },
    "language_info": {
      "name": "python"
    }
  },
  "cells": [
    {
      "cell_type": "markdown",
      "metadata": {
        "id": "view-in-github",
        "colab_type": "text"
      },
      "source": [
        "<a href=\"https://colab.research.google.com/github/mabr5772/mabr5772.github.io/blob/main/Assignment15_template.ipynb\" target=\"_parent\"><img src=\"https://colab.research.google.com/assets/colab-badge.svg\" alt=\"Open In Colab\"/></a>"
      ]
    },
    {
      "cell_type": "markdown",
      "source": [
        "## Assignment 15 Template"
      ],
      "metadata": {
        "id": "2QESRbyK731U"
      }
    },
    {
      "cell_type": "markdown",
      "source": [
        "### Imports\n",
        "\n",
        "Don't touch these; we need them for the scraper to work correctly."
      ],
      "metadata": {
        "id": "fvws--Qn8ALT"
      }
    },
    {
      "cell_type": "code",
      "execution_count": 3,
      "metadata": {
        "id": "1w8eCSaj73Xh"
      },
      "outputs": [],
      "source": [
        "from urllib.request import urlopen\n",
        "from bs4 import BeautifulSoup"
      ]
    },
    {
      "cell_type": "markdown",
      "source": [
        "### Getting the URL\n",
        "\n",
        "In the next cell, place the code to open the URL, and assign it to a variable."
      ],
      "metadata": {
        "id": "ObNR62I78I3C"
      }
    },
    {
      "cell_type": "code",
      "source": [
        "url = \"https://www.anthonypinter.com/assignment15-source.html\" \n",
        "html = urlopen(url)"
      ],
      "metadata": {
        "id": "GkVWBZ5s8RTT"
      },
      "execution_count": 4,
      "outputs": []
    },
    {
      "cell_type": "markdown",
      "source": [
        "### Making the Soup\n",
        "\n",
        "In the next cell, place the code to make the soup."
      ],
      "metadata": {
        "id": "jB_g4DTK8SgM"
      }
    },
    {
      "cell_type": "code",
      "source": [
        "soup = BeautifulSoup(html, 'lxml')"
      ],
      "metadata": {
        "id": "6PbrmzzS8W2D"
      },
      "execution_count": 5,
      "outputs": []
    },
    {
      "cell_type": "markdown",
      "source": [
        "### Country Name\n",
        "\n",
        "In the next cell, put the code to scrape the name of the country you selected (it cannot be Andorra or Zimbabwe). After you scrape the country's name, print it as a string."
      ],
      "metadata": {
        "id": "6PfPLJ3G8X2a"
      }
    },
    {
      "cell_type": "code",
      "source": [
        "country_name = soup.find('i', class_=\"flag-icon flag-icon-dk\").next_element\n",
        "print(country_name)"
      ],
      "metadata": {
        "id": "zJzGfr6-8sVr",
        "colab": {
          "base_uri": "https://localhost:8080/"
        },
        "outputId": "7109f0ce-97c1-4d9d-d749-13d3ee15e12e"
      },
      "execution_count": 12,
      "outputs": [
        {
          "output_type": "stream",
          "name": "stdout",
          "text": [
            "\n",
            "                            Denmark\n",
            "                        \n"
          ]
        }
      ]
    },
    {
      "cell_type": "markdown",
      "source": [
        "### Country Capital\n",
        "\n",
        "In the next cell, put the code to scrape the name of the capital of the country you selected. After you scrape the country's capital's name, print it as a string."
      ],
      "metadata": {
        "id": "ISAcFbWa8t7R"
      }
    },
    {
      "cell_type": "code",
      "source": [
        "country_name = soup.find('i', class_=\"flag-icon flag-icon-dk\").next_element.next_element.next_element.next_element.next_element.next_element.next_element.next_element.string\n",
        "print(country_name)"
      ],
      "metadata": {
        "id": "5XUFuLAp815H",
        "colab": {
          "base_uri": "https://localhost:8080/"
        },
        "outputId": "1bba61e2-6b2b-47bf-98d1-0cea71482a59"
      },
      "execution_count": 13,
      "outputs": [
        {
          "output_type": "stream",
          "name": "stdout",
          "text": [
            "Copenhagen\n"
          ]
        }
      ]
    },
    {
      "cell_type": "markdown",
      "source": [
        "### Country Population\n",
        "\n",
        "In the next cell, put the code to scrape the population of the country you selected. After you scrape the country's population, print it as a string."
      ],
      "metadata": {
        "id": "U0tmmp-y84Zr"
      }
    },
    {
      "cell_type": "code",
      "source": [
        "country_pop = soup.find('i', class_=\"flag-icon flag-icon-dk\").next_element.next_element.next_element.next_element.next_element.next_element.next_element.next_element.next_element.next_element.next_element.next_element.next_element.next_element.next_element.string\n",
        "print(country_pop)"
      ],
      "metadata": {
        "id": "4BuQEtYS9FZY",
        "colab": {
          "base_uri": "https://localhost:8080/"
        },
        "outputId": "af3e1ea4-69ea-4fad-be2c-816ba1ed3b44"
      },
      "execution_count": 14,
      "outputs": [
        {
          "output_type": "stream",
          "name": "stdout",
          "text": [
            "5484000\n"
          ]
        }
      ]
    },
    {
      "cell_type": "markdown",
      "source": [
        "### Country Area\n",
        "\n",
        "In the next cell, put the code to scrape the geographic size of the country you selected. After you scrape the country's size, print it as a string."
      ],
      "metadata": {
        "id": "coOJuuuI9GvG"
      }
    },
    {
      "cell_type": "code",
      "source": [
        "country_area = soup.find('i', class_=\"flag-icon flag-icon-dk\").next_element.next_element.next_element.next_element.next_element.next_element.next_element.next_element.next_element.next_element.next_element.next_element.next_element.next_element.next_element.next_element.next_element.next_element.next_element.next_element.next_element.next_element.next_element.next_element.next_element.string\n",
        "print(country_area)"
      ],
      "metadata": {
        "id": "-gOdrVoF9Lyy",
        "colab": {
          "base_uri": "https://localhost:8080/"
        },
        "outputId": "5f2270a0-e18e-4054-cc97-45bf4f15fc13"
      },
      "execution_count": 15,
      "outputs": [
        {
          "output_type": "stream",
          "name": "stdout",
          "text": [
            "43094.0\n"
          ]
        }
      ]
    }
  ]
}